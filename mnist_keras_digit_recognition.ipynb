{
  "nbformat": 4,
  "nbformat_minor": 0,
  "metadata": {
    "colab": {
      "name": "mnist_keras_digit_recognition.ipynb",
      "provenance": [],
      "collapsed_sections": [],
      "authorship_tag": "ABX9TyP3l7xQd8JgFhe8toBYJBuG"
    },
    "kernelspec": {
      "name": "python3",
      "display_name": "Python 3"
    }
  },
  "cells": [
    {
      "cell_type": "markdown",
      "metadata": {
        "id": "GRf5EQZcjcfF",
        "colab_type": "text"
      },
      "source": [
        "First, import all necessary libraries"
      ]
    },
    {
      "cell_type": "code",
      "metadata": {
        "id": "3GswTxE__rWz",
        "colab_type": "code",
        "colab": {}
      },
      "source": [
        "import numpy as np\n",
        "import matplotlib.pyplot as plt\n",
        "from tensorflow import keras\n",
        "from keras.datasets import mnist\n",
        "from keras.models import Sequential\n",
        "from keras.utils import to_categorical, plot_model\n",
        "from keras.layers.core import Dense, Dropout, Flatten, Activation\n",
        "from keras.layers.convolutional import Conv2D, MaxPooling2D"
      ],
      "execution_count": 0,
      "outputs": []
    },
    {
      "cell_type": "markdown",
      "metadata": {
        "id": "cb7-SA-Bjzxj",
        "colab_type": "text"
      },
      "source": [
        "Then, load the training and testing datasets."
      ]
    },
    {
      "cell_type": "code",
      "metadata": {
        "id": "VW-HI3CbBm11",
        "colab_type": "code",
        "outputId": "3db7b126-5a26-4175-c636-8f489d50bfc7",
        "colab": {
          "base_uri": "https://localhost:8080/",
          "height": 338
        }
      },
      "source": [
        "# Load dataset\n",
        "(X_train,Y_train), (X_test, Y_test) = mnist.load_data()\n",
        "# Create suitable x and y\n",
        "X_train = X_train.astype('float32')\n",
        "X_train = np.reshape(X_train,(X_train.shape[0],1,X_train.shape[1],X_train.shape[2]))\n",
        "X_test = X_test.astype('float32')\n",
        "X_test = np.reshape(X_test,(X_test.shape[0],1,X_test.shape[1],X_test.shape[2]))\n",
        "Y_train = to_categorical(Y_train,10)\n",
        "Y_test = to_categorical(Y_test,10)\n",
        "\n",
        "# Split training set in training and validation set\n",
        "X_validation = X_train[50000::,...]\n",
        "Y_validation = Y_train[50000::,...]\n",
        "X_train = X_train[:50000:,...]\n",
        "Y_train = Y_train[:50000:,...]\n",
        "\n",
        "print(\"training input shape\",X_train.shape)\n",
        "print(\"training validation shape\",X_validation.shape)\n",
        "print(\"test input shape\",X_test.shape)\n",
        "\n",
        "# Display first image of the training set\n",
        "plt.imshow(X_train[0,0])"
      ],
      "execution_count": 0,
      "outputs": [
        {
          "output_type": "stream",
          "text": [
            "training input shape (50000, 1, 28, 28)\n",
            "training validation shape (10000, 1, 28, 28)\n",
            "test input shape (10000, 1, 28, 28)\n"
          ],
          "name": "stdout"
        },
        {
          "output_type": "execute_result",
          "data": {
            "text/plain": [
              "<matplotlib.image.AxesImage at 0x7f1bf9b81748>"
            ]
          },
          "metadata": {
            "tags": []
          },
          "execution_count": 10
        },
        {
          "output_type": "display_data",
          "data": {
            "image/png": "[encoded data removed]",
            "text/plain": [
              "<Figure size 432x288 with 1 Axes>"
            ]
          },
          "metadata": {
            "tags": []
          }
        }
      ]
    },
    {
      "cell_type": "markdown",
      "metadata": {
        "id": "TCpk6QfbkDBJ",
        "colab_type": "text"
      },
      "source": [
        "Create the Convolutional Neural Network using the Keras library from TensorFlow."
      ]
    },
    {
      "cell_type": "code",
      "metadata": {
        "id": "5kDKORfkCEr3",
        "colab_type": "code",
        "colab": {}
      },
      "source": [
        "width = 28\n",
        "height = 28\n",
        "input_shape = (1, height, width)\n",
        "# Input data normalization\n",
        "X_train /= 255\n",
        "X_test /= 255\n",
        "\n",
        "# Import model from keras\n",
        "model = Sequential()\n",
        "model.add(Conv2D(32, kernel_size=(3, 3), activation='relu',input_shape=input_shape, data_format='channels_first'))\n",
        "model.add(MaxPooling2D(pool_size=(2,2), data_format='channels_first'))\n",
        "model.add(Conv2D(filters=64,kernel_size=(3,3),activation='relu', data_format='channels_first'))\n",
        "model.add(MaxPooling2D(pool_size=(2,2), data_format='channels_first'))\n",
        "model.add(Dropout(rate=0.2))\n",
        "model.add(Flatten(data_format='channels_first'))\n",
        "model.add(Dense(128,activation='relu',use_bias=True))\n",
        "model.add(Dense(128,activation='relu',use_bias=True))\n",
        "model.add(Dense(10,activation='softmax',use_bias=True))\n"
      ],
      "execution_count": 0,
      "outputs": []
    },
    {
      "cell_type": "markdown",
      "metadata": {
        "id": "jeWlTEj-kW1I",
        "colab_type": "text"
      },
      "source": [
        "Train the model."
      ]
    },
    {
      "cell_type": "code",
      "metadata": {
        "id": "1CMdKxQwCMhC",
        "colab_type": "code",
        "outputId": "193d6a75-2b0f-47f2-fdad-a416eee33926",
        "colab": {
          "base_uri": "https://localhost:8080/",
          "height": 880
        }
      },
      "source": [
        "# Compile the model\n",
        "model.compile(optimizer='Adam',loss=keras.losses.categorical_crossentropy,metrics=['accuracy'])\n",
        "# Summary of the model \n",
        "model.summary()\n",
        "# Fit/Train the model\n",
        "history = model.fit(x=X_train,y=Y_train,batch_size=128,epochs=10,verbose=1,validation_data=(X_validation, Y_validation))"
      ],
      "execution_count": 0,
      "outputs": [
        {
          "output_type": "stream",
          "text": [
            "Model: \"sequential_2\"\n",
            "_________________________________________________________________\n",
            "Layer (type)                 Output Shape              Param #   \n",
            "=================================================================\n",
            "conv2d_3 (Conv2D)            (None, 32, 26, 26)        320       \n",
            "_________________________________________________________________\n",
            "max_pooling2d_3 (MaxPooling2 (None, 32, 13, 13)        0         \n",
            "_________________________________________________________________\n",
            "conv2d_4 (Conv2D)            (None, 64, 11, 11)        18496     \n",
            "_________________________________________________________________\n",
            "max_pooling2d_4 (MaxPooling2 (None, 64, 5, 5)          0         \n",
            "_________________________________________________________________\n",
            "dropout_2 (Dropout)          (None, 64, 5, 5)          0         \n",
            "_________________________________________________________________\n",
            "flatten_2 (Flatten)          (None, 1600)              0         \n",
            "_________________________________________________________________\n",
            "dense_4 (Dense)              (None, 128)               204928    \n",
            "_________________________________________________________________\n",
            "dense_5 (Dense)              (None, 128)               16512     \n",
            "_________________________________________________________________\n",
            "dense_6 (Dense)              (None, 10)                1290      \n",
            "=================================================================\n",
            "Total params: 241,546\n",
            "Trainable params: 241,546\n",
            "Non-trainable params: 0\n",
            "_________________________________________________________________\n",
            "Train on 50000 samples, validate on 10000 samples\n",
            "Epoch 1/10\n",
            "50000/50000 [==============================] - 58s 1ms/step - loss: 0.2437 - acc: 0.9277 - val_loss: 13.5525 - val_acc: 0.9744\n",
            "Epoch 2/10\n",
            "50000/50000 [==============================] - 57s 1ms/step - loss: 0.0711 - acc: 0.9777 - val_loss: 12.0301 - val_acc: 0.9817\n",
            "Epoch 3/10\n",
            "50000/50000 [==============================] - 57s 1ms/step - loss: 0.0488 - acc: 0.9852 - val_loss: 10.0769 - val_acc: 0.9843\n",
            "Epoch 4/10\n",
            "50000/50000 [==============================] - 58s 1ms/step - loss: 0.0377 - acc: 0.9879 - val_loss: 14.8777 - val_acc: 0.9809\n",
            "Epoch 5/10\n",
            "50000/50000 [==============================] - 58s 1ms/step - loss: 0.0298 - acc: 0.9902 - val_loss: 11.6495 - val_acc: 0.9843\n",
            "Epoch 6/10\n",
            "50000/50000 [==============================] - 58s 1ms/step - loss: 0.0263 - acc: 0.9914 - val_loss: 9.1020 - val_acc: 0.9880\n",
            "Epoch 7/10\n",
            "50000/50000 [==============================] - 57s 1ms/step - loss: 0.0227 - acc: 0.9925 - val_loss: 9.3259 - val_acc: 0.9896\n",
            "Epoch 8/10\n",
            "50000/50000 [==============================] - 58s 1ms/step - loss: 0.0219 - acc: 0.9925 - val_loss: 11.9231 - val_acc: 0.9861\n",
            "Epoch 9/10\n",
            "50000/50000 [==============================] - 58s 1ms/step - loss: 0.0168 - acc: 0.9946 - val_loss: 15.4638 - val_acc: 0.9829\n",
            "Epoch 10/10\n",
            "50000/50000 [==============================] - 59s 1ms/step - loss: 0.0151 - acc: 0.9947 - val_loss: 13.8349 - val_acc: 0.9862\n"
          ],
          "name": "stdout"
        }
      ]
    },
    {
      "cell_type": "markdown",
      "metadata": {
        "id": "lIbsWFlAkmR3",
        "colab_type": "text"
      },
      "source": [
        "Visualize the training of the model. This give us an overvieuw of the training and validation loss and accuracy in function of the training epochs."
      ]
    },
    {
      "cell_type": "code",
      "metadata": {
        "id": "ZZ2oZCsIa7zm",
        "colab_type": "code",
        "outputId": "3e7940e9-36c2-44e7-9115-3077706b14e5",
        "colab": {
          "base_uri": "https://localhost:8080/",
          "height": 573
        }
      },
      "source": [
        "# make a plot of the model\n",
        "plot_model(model, to_file='model_keras_mnist.png')\n",
        "\n",
        "# Plot training & validation accuracy values\n",
        "plt.plot(history.history['acc'])\n",
        "plt.plot(history.history['val_acc'])\n",
        "plt.title('Model accuracy')\n",
        "plt.ylabel('Accuracy')\n",
        "plt.xlabel('Epoch')\n",
        "plt.legend(['Train', 'Test'], loc='upper left')\n",
        "plt.show()\n",
        "\n",
        "# Plot training & validation loss values\n",
        "plt.plot(history.history['loss'])\n",
        "plt.plot(history.history['val_loss'])\n",
        "plt.title('Model loss')\n",
        "plt.ylabel('Loss')\n",
        "plt.xlabel('Epoch')\n",
        "plt.legend(['Train', 'Test'], loc='upper left')\n",
        "plt.show()"
      ],
      "execution_count": 0,
      "outputs": [
        {
          "output_type": "display_data",
          "data": {
            "image/png": "[encoded data removed]",
            "text/plain": [
              "<Figure size 432x288 with 1 Axes>"
            ]
          },
          "metadata": {
            "tags": []
          }
        },
        {
          "output_type": "display_data",
          "data": {
            "image/png": "[encoded data removed]",
            "text/plain": [
              "<Figure size 432x288 with 1 Axes>"
            ]
          },
          "metadata": {
            "tags": []
          }
        }
      ]
    },
    {
      "cell_type": "markdown",
      "metadata": {
        "id": "6JT67VfilK3h",
        "colab_type": "text"
      },
      "source": [
        "Evaluate the model for the validation set."
      ]
    },
    {
      "cell_type": "code",
      "metadata": {
        "id": "FTUAz0rGn7Z9",
        "colab_type": "code",
        "colab": {}
      },
      "source": [
        "# Obtain value for loss error and accuracy of themodel \n",
        "error, accuracy = model.evaluate(X_validation, Y_validation, verbose=0)"
      ],
      "execution_count": 0,
      "outputs": []
    },
    {
      "cell_type": "markdown",
      "metadata": {
        "id": "1dhE8-2clR5l",
        "colab_type": "text"
      },
      "source": [
        "Lets examine how good the trained model performs on a unseen dataset during training."
      ]
    },
    {
      "cell_type": "code",
      "metadata": {
        "id": "vK9Dli0IU49w",
        "colab_type": "code",
        "colab": {}
      },
      "source": [
        "# Make a prediction over unseen dataset\n",
        "result = model.predict(X_test)"
      ],
      "execution_count": 0,
      "outputs": []
    },
    {
      "cell_type": "code",
      "metadata": {
        "id": "1SI_-Ej8WNHd",
        "colab_type": "code",
        "outputId": "606d6e71-d5ac-42ba-af5a-8dbffaecc3d4",
        "colab": {
          "base_uri": "https://localhost:8080/",
          "height": 35
        }
      },
      "source": [
        "pred = np.max(result,axis=1)[:,np.newaxis] == result # Obtain index of the most probable digit\n",
        "cond = np.where(pred==True)[1] == np.where(Y_test==True)[1]\n",
        "accuracy = 100*np.sum(cond)/Y_test.shape[0]\n",
        "print(\"The accuracy on a unseen data set during the training is {}%\".format(accuracy))"
      ],
      "execution_count": 0,
      "outputs": [
        {
          "output_type": "stream",
          "text": [
            "The accuracy on a unseen data set during the training is 99.27%\n"
          ],
          "name": "stdout"
        }
      ]
    },
    {
      "cell_type": "code",
      "metadata": {
        "id": "NvyI9LbUltiC",
        "colab_type": "code",
        "colab": {}
      },
      "source": [
        ""
      ],
      "execution_count": 0,
      "outputs": []
    }
  ]
}